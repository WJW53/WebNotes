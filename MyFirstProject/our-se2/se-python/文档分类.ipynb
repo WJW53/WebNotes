{
 "cells": [
  {
   "cell_type": "code",
   "execution_count": 2,
   "metadata": {},
   "outputs": [],
   "source": [
    "import pandas as pd\n",
    "import numpy as np\n",
    "from tqdm import tqdm\n",
    "from glob import glob\n",
    "from sklearn.feature_extraction.text import TfidfVectorizer,CountVectorizer\n",
    "import jieba\n",
    "import pickle\n",
    "import re"
   ]
  },
  {
   "cell_type": "code",
   "execution_count": 3,
   "metadata": {},
   "outputs": [],
   "source": [
    "#将语料库转为dataframe格式\n",
    "\n",
    "# text_list = glob('./THUCNews\\\\*\\\\*.txt')\n",
    "# text_label = list(map(lambda x:x.split('\\\\')[-2],text_list))\n",
    "# df = pd.DataFrame()\n",
    "# values = []\n",
    "\n",
    "# for index in range(len(text_list)):\n",
    "#     myfile=open(text_list[index],encoding='utf_8')\n",
    "#     a=myfile.read()\n",
    "#     values.append([a,text_label[index]])\n",
    "# df = df.append(values)\n",
    "# df.columns=['content','label']\n",
    "# df.to_pickle('train.pkl')"
   ]
  },
  {
   "cell_type": "code",
   "execution_count": 4,
   "metadata": {},
   "outputs": [],
   "source": [
    "# 对某些过多的类别进行降采样\n",
    "\n",
    "# %%time\n",
    "# train = pd.read_pickle('train.pkl')\n",
    "# down_label = ['科技','股票','体育','娱乐','时政']\n",
    "# for i in down_label:\n",
    "#     drop_index = train[train.label==i].index\n",
    "#     drop_index = drop_index[:len(drop_index)//2]\n",
    "#     train = train.drop(drop_index)\n",
    "# train.to_pickle('down_sample.pkl')"
   ]
  },
  {
   "cell_type": "code",
   "execution_count": 5,
   "metadata": {},
   "outputs": [],
   "source": [
    "# #tf_idf向量化 max_features=1000\n",
    "# train = pd.read_pickle('down_sample.pkl')\n",
    "# train = train.reset_index(drop=True)\n",
    "# sencents = train.content.values\n",
    "# content = []\n",
    "# for i in tqdm(sencents):\n",
    "#     xx = jieba.lcut(re.compile(u\"[^\\u4e00-\\u9fa5]+\").sub('', i))  \n",
    "#     content.append(\",\".join(xx))\n",
    "# vectorizer = TfidfVectorizer(min_df=15,max_df=0.85,max_features=1000) \n",
    "# x = vectorizer.fit_transform(content)\n",
    "# word_tfidf = pd.DataFrame(x.toarray(),columns=vectorizer.get_feature_names())\n",
    "# word_tfidf.to_pickle('tfidf.pkl')"
   ]
  },
  {
   "cell_type": "code",
   "execution_count": 6,
   "metadata": {},
   "outputs": [],
   "source": [
    "# pickle.dump(vectorizer, open(\"vectorizer.pickle\", \"wb\"))\n",
    "# vectorizer = pickle.load(open(\"vectorizer.pickle\", \"rb\"))"
   ]
  },
  {
   "cell_type": "code",
   "execution_count": 18,
   "metadata": {},
   "outputs": [],
   "source": [
    "#tf_idf中添加特征以及标签\n",
    "\n",
    "# train = pd.read_pickle('./data/down_sample.pkl')\n",
    "# train = train.reset_index(drop=True)\n",
    "# labels = train.label\n",
    "\n",
    "# tfidf = pd.read_pickle('./data/tfidf.pkl')\n",
    "# tfidf['len'] = list(map(lambda x:len(x),train.content))\n",
    "# tfidf['label'] = labels\n",
    "# tfidf.to_pickle('tfidf.pkl')"
   ]
  },
  {
   "cell_type": "code",
   "execution_count": 7,
   "metadata": {},
   "outputs": [],
   "source": [
    "df = pd.read_pickle('./data/tfidf.pkl')\n",
    "data = df.drop(['label','len'],axis=1)#长度应该还是不适合做特征\n",
    "target = df.label\n",
    "data.columns = range(data.shape[1])\n",
    "del df"
   ]
  },
  {
   "cell_type": "code",
   "execution_count": 8,
   "metadata": {},
   "outputs": [],
   "source": [
    "from sklearn.model_selection import train_test_split\n",
    "\n",
    "train_x,test_x,train_y,test_y = train_test_split(data,target,test_size=0.2,random_state=10100)"
   ]
  },
  {
   "cell_type": "code",
   "execution_count": 9,
   "metadata": {},
   "outputs": [
    {
     "name": "stdout",
     "output_type": "stream",
     "text": [
      "[1]\tvalid_0's multi_error: 0.216925\tvalid_0's multi_logloss: 1.67618\n",
      "Training until validation scores don't improve for 20 rounds\n",
      "[2]\tvalid_0's multi_error: 0.177806\tvalid_0's multi_logloss: 1.40838\n",
      "[3]\tvalid_0's multi_error: 0.161722\tvalid_0's multi_logloss: 1.22379\n",
      "[4]\tvalid_0's multi_error: 0.147165\tvalid_0's multi_logloss: 1.08487\n",
      "[5]\tvalid_0's multi_error: 0.140017\tvalid_0's multi_logloss: 0.973306\n",
      "[6]\tvalid_0's multi_error: 0.135296\tvalid_0's multi_logloss: 0.884443\n",
      "[7]\tvalid_0's multi_error: 0.132167\tvalid_0's multi_logloss: 0.81255\n",
      "[8]\tvalid_0's multi_error: 0.130097\tvalid_0's multi_logloss: 0.751614\n",
      "[9]\tvalid_0's multi_error: 0.127896\tvalid_0's multi_logloss: 0.699518\n",
      "[10]\tvalid_0's multi_error: 0.125872\tvalid_0's multi_logloss: 0.655668\n",
      "[11]\tvalid_0's multi_error: 0.123943\tvalid_0's multi_logloss: 0.617614\n",
      "[12]\tvalid_0's multi_error: 0.122481\tvalid_0's multi_logloss: 0.586771\n",
      "[13]\tvalid_0's multi_error: 0.120514\tvalid_0's multi_logloss: 0.556969\n",
      "[14]\tvalid_0's multi_error: 0.1182\tvalid_0's multi_logloss: 0.531031\n",
      "[15]\tvalid_0's multi_error: 0.116317\tvalid_0's multi_logloss: 0.508125\n",
      "[16]\tvalid_0's multi_error: 0.114397\tvalid_0's multi_logloss: 0.487704\n",
      "[17]\tvalid_0's multi_error: 0.112954\tvalid_0's multi_logloss: 0.469995\n",
      "[18]\tvalid_0's multi_error: 0.111531\tvalid_0's multi_logloss: 0.453782\n",
      "[19]\tvalid_0's multi_error: 0.110641\tvalid_0's multi_logloss: 0.439742\n",
      "[20]\tvalid_0's multi_error: 0.109385\tvalid_0's multi_logloss: 0.426924\n",
      "[21]\tvalid_0's multi_error: 0.107905\tvalid_0's multi_logloss: 0.415423\n",
      "[22]\tvalid_0's multi_error: 0.106706\tvalid_0's multi_logloss: 0.404622\n",
      "[23]\tvalid_0's multi_error: 0.105826\tvalid_0's multi_logloss: 0.395514\n",
      "[24]\tvalid_0's multi_error: 0.104823\tvalid_0's multi_logloss: 0.386708\n",
      "[25]\tvalid_0's multi_error: 0.103737\tvalid_0's multi_logloss: 0.378337\n",
      "[26]\tvalid_0's multi_error: 0.102978\tvalid_0's multi_logloss: 0.371359\n",
      "[27]\tvalid_0's multi_error: 0.102126\tvalid_0's multi_logloss: 0.364178\n",
      "[28]\tvalid_0's multi_error: 0.100861\tvalid_0's multi_logloss: 0.357638\n",
      "[29]\tvalid_0's multi_error: 0.099896\tvalid_0's multi_logloss: 0.351743\n",
      "[30]\tvalid_0's multi_error: 0.0986689\tvalid_0's multi_logloss: 0.346329\n",
      "[31]\tvalid_0's multi_error: 0.0981349\tvalid_0's multi_logloss: 0.341274\n",
      "[32]\tvalid_0's multi_error: 0.097245\tvalid_0's multi_logloss: 0.336556\n",
      "[33]\tvalid_0's multi_error: 0.09643\tvalid_0's multi_logloss: 0.332236\n",
      "[34]\tvalid_0's multi_error: 0.095793\tvalid_0's multi_logloss: 0.328685\n",
      "[35]\tvalid_0's multi_error: 0.0953621\tvalid_0's multi_logloss: 0.324757\n",
      "[36]\tvalid_0's multi_error: 0.0948188\tvalid_0's multi_logloss: 0.322562\n",
      "[37]\tvalid_0's multi_error: 0.0939944\tvalid_0's multi_logloss: 0.318024\n",
      "[38]\tvalid_0's multi_error: 0.0935542\tvalid_0's multi_logloss: 0.314834\n",
      "[39]\tvalid_0's multi_error: 0.0928516\tvalid_0's multi_logloss: 0.313039\n",
      "[40]\tvalid_0's multi_error: 0.0923457\tvalid_0's multi_logloss: 0.309342\n",
      "[41]\tvalid_0's multi_error: 0.0916994\tvalid_0's multi_logloss: 0.306398\n",
      "[42]\tvalid_0's multi_error: 0.0911186\tvalid_0's multi_logloss: 0.304321\n",
      "[43]\tvalid_0's multi_error: 0.0908844\tvalid_0's multi_logloss: 0.302989\n",
      "[44]\tvalid_0's multi_error: 0.0902755\tvalid_0's multi_logloss: 0.300166\n",
      "[45]\tvalid_0's multi_error: 0.0899851\tvalid_0's multi_logloss: 0.300539\n",
      "[46]\tvalid_0's multi_error: 0.0894512\tvalid_0's multi_logloss: 0.298653\n",
      "[47]\tvalid_0's multi_error: 0.0891889\tvalid_0's multi_logloss: 0.294951\n",
      "[48]\tvalid_0's multi_error: 0.0887298\tvalid_0's multi_logloss: 0.297054\n",
      "[49]\tvalid_0's multi_error: 0.0882615\tvalid_0's multi_logloss: 0.292205\n",
      "[50]\tvalid_0's multi_error: 0.087943\tvalid_0's multi_logloss: 0.290695\n",
      "[51]\tvalid_0's multi_error: 0.0875495\tvalid_0's multi_logloss: 0.288998\n",
      "[52]\tvalid_0's multi_error: 0.0873153\tvalid_0's multi_logloss: 0.287336\n",
      "[53]\tvalid_0's multi_error: 0.0866783\tvalid_0's multi_logloss: 0.285778\n",
      "[54]\tvalid_0's multi_error: 0.0864723\tvalid_0's multi_logloss: 0.286493\n",
      "[55]\tvalid_0's multi_error: 0.086313\tvalid_0's multi_logloss: 0.284572\n",
      "[56]\tvalid_0's multi_error: 0.0856479\tvalid_0's multi_logloss: 0.281571\n",
      "[57]\tvalid_0's multi_error: 0.0853856\tvalid_0's multi_logloss: 0.281596\n",
      "[58]\tvalid_0's multi_error: 0.0852076\tvalid_0's multi_logloss: 0.280366\n",
      "[59]\tvalid_0's multi_error: 0.0850109\tvalid_0's multi_logloss: 0.280825\n",
      "[60]\tvalid_0's multi_error: 0.0848329\tvalid_0's multi_logloss: 0.279842\n",
      "[61]\tvalid_0's multi_error: 0.0847955\tvalid_0's multi_logloss: 0.285223\n",
      "[62]\tvalid_0's multi_error: 0.0845238\tvalid_0's multi_logloss: 0.27749\n",
      "[63]\tvalid_0's multi_error: 0.0842802\tvalid_0's multi_logloss: 0.277756\n",
      "[64]\tvalid_0's multi_error: 0.0840086\tvalid_0's multi_logloss: 0.277249\n",
      "[65]\tvalid_0's multi_error: 0.0842334\tvalid_0's multi_logloss: 0.285556\n",
      "[66]\tvalid_0's multi_error: 0.083765\tvalid_0's multi_logloss: 0.278069\n",
      "[67]\tvalid_0's multi_error: 0.0835496\tvalid_0's multi_logloss: 0.275939\n",
      "[68]\tvalid_0's multi_error: 0.0833247\tvalid_0's multi_logloss: 0.276335\n",
      "[69]\tvalid_0's multi_error: 0.0831749\tvalid_0's multi_logloss: 0.275709\n",
      "[70]\tvalid_0's multi_error: 0.0828657\tvalid_0's multi_logloss: 0.274834\n",
      "[71]\tvalid_0's multi_error: 0.0826409\tvalid_0's multi_logloss: 0.274157\n",
      "[72]\tvalid_0's multi_error: 0.0825472\tvalid_0's multi_logloss: 0.278492\n",
      "[73]\tvalid_0's multi_error: 0.0825472\tvalid_0's multi_logloss: 0.274989\n",
      "[74]\tvalid_0's multi_error: 0.0825004\tvalid_0's multi_logloss: 0.27313\n",
      "[75]\tvalid_0's multi_error: 0.0823599\tvalid_0's multi_logloss: 0.272249\n",
      "[76]\tvalid_0's multi_error: 0.0820133\tvalid_0's multi_logloss: 0.272383\n",
      "[77]\tvalid_0's multi_error: 0.0819477\tvalid_0's multi_logloss: 0.273746\n",
      "[78]\tvalid_0's multi_error: 0.0818447\tvalid_0's multi_logloss: 0.274087\n",
      "[79]\tvalid_0's multi_error: 0.0816105\tvalid_0's multi_logloss: 0.274272\n",
      "[80]\tvalid_0's multi_error: 0.0816948\tvalid_0's multi_logloss: 0.28171\n",
      "[81]\tvalid_0's multi_error: 0.0817791\tvalid_0's multi_logloss: 0.28651\n",
      "[82]\tvalid_0's multi_error: 0.0813763\tvalid_0's multi_logloss: 0.27885\n",
      "[83]\tvalid_0's multi_error: 0.0814044\tvalid_0's multi_logloss: 0.278808\n",
      "[84]\tvalid_0's multi_error: 0.0814138\tvalid_0's multi_logloss: 0.277511\n",
      "[85]\tvalid_0's multi_error: 0.0813388\tvalid_0's multi_logloss: 0.27402\n",
      "[86]\tvalid_0's multi_error: 0.0810297\tvalid_0's multi_logloss: 0.272389\n",
      "[87]\tvalid_0's multi_error: 0.0810203\tvalid_0's multi_logloss: 0.272976\n",
      "[88]\tvalid_0's multi_error: 0.0808049\tvalid_0's multi_logloss: 0.272397\n",
      "[89]\tvalid_0's multi_error: 0.080833\tvalid_0's multi_logloss: 0.272506\n",
      "[90]\tvalid_0's multi_error: 0.0808892\tvalid_0's multi_logloss: 0.281264\n",
      "[91]\tvalid_0's multi_error: 0.080758\tvalid_0's multi_logloss: 0.278894\n",
      "[92]\tvalid_0's multi_error: 0.0807206\tvalid_0's multi_logloss: 0.276838\n",
      "[93]\tvalid_0's multi_error: 0.0805519\tvalid_0's multi_logloss: 0.276073\n",
      "[94]\tvalid_0's multi_error: 0.0804302\tvalid_0's multi_logloss: 0.273365\n",
      "[95]\tvalid_0's multi_error: 0.0808985\tvalid_0's multi_logloss: 0.295083\n",
      "Early stopping, best iteration is:\n",
      "[75]\tvalid_0's multi_error: 0.0823599\tvalid_0's multi_logloss: 0.272249\n"
     ]
    },
    {
     "data": {
      "text/plain": [
       "LGBMClassifier(n_estimators=100000)"
      ]
     },
     "execution_count": 9,
     "metadata": {},
     "output_type": "execute_result"
    }
   ],
   "source": [
    "from lightgbm import LGBMClassifier\n",
    "\n",
    "model = LGBMClassifier(n_estimators=100000)\n",
    "model.fit(train_x,train_y,eval_set=[(test_x,test_y)],eval_metric='error',early_stopping_rounds=20,verbose=True)"
   ]
  },
  {
   "cell_type": "code",
   "execution_count": 22,
   "metadata": {},
   "outputs": [],
   "source": [
    "# pickle.dump(model, open(\"lgb_model.pickle\", \"wb\"))"
   ]
  },
  {
   "cell_type": "code",
   "execution_count": null,
   "metadata": {},
   "outputs": [],
   "source": []
  },
  {
   "cell_type": "code",
   "execution_count": 39,
   "metadata": {},
   "outputs": [],
   "source": [
    "vectorizer = pickle.load(open(\"vectorizer.pickle\", \"rb\"))\n",
    "model = pickle.load(open(\"lgb_model.pickle\", \"rb\"))"
   ]
  },
  {
   "cell_type": "code",
   "execution_count": 40,
   "metadata": {},
   "outputs": [],
   "source": [
    "test_x = vectorizer.transform([s]).toarray()"
   ]
  },
  {
   "cell_type": "code",
   "execution_count": 41,
   "metadata": {},
   "outputs": [
    {
     "data": {
      "text/plain": [
       "array(['科技'], dtype=object)"
      ]
     },
     "execution_count": 41,
     "metadata": {},
     "output_type": "execute_result"
    }
   ],
   "source": [
    "model.predict(test_x)"
   ]
  },
  {
   "cell_type": "code",
   "execution_count": null,
   "metadata": {},
   "outputs": [],
   "source": []
  }
 ],
 "metadata": {
  "kernelspec": {
   "display_name": "Python 3",
   "language": "python",
   "name": "python3"
  },
  "language_info": {
   "codemirror_mode": {
    "name": "ipython",
    "version": 3
   },
   "file_extension": ".py",
   "mimetype": "text/x-python",
   "name": "python",
   "nbconvert_exporter": "python",
   "pygments_lexer": "ipython3",
   "version": "3.6.8"
  }
 },
 "nbformat": 4,
 "nbformat_minor": 4
}
