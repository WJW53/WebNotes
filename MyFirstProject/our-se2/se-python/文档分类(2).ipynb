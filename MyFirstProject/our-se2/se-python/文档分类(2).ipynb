{
 "cells": [
  {
   "cell_type": "code",
   "execution_count": 6,
   "metadata": {},
   "outputs": [],
   "source": [
    "import pandas as pd\n",
    "import numpy as np\n",
    "from tqdm import tqdm\n",
    "import pickle\n",
    "import jieba"
   ]
  },
  {
   "cell_type": "code",
   "execution_count": 7,
   "metadata": {},
   "outputs": [
    {
     "name": "stderr",
     "output_type": "stream",
     "text": [
      "  0%|                                                                                        | 0/12000 [00:00<?, ?it/s]Building prefix dict from the default dictionary ...\n",
      "Dumping model to file cache C:\\Users\\MSI-PC\\AppData\\Local\\Temp\\jieba.cache\n",
      "Loading model cost 0.936 seconds.\n",
      "Prefix dict has been built successfully.\n",
      "100%|███████████████████████████████████████████████████████████████████████████| 12000/12000 [01:34<00:00, 127.30it/s]\n"
     ]
    }
   ],
   "source": [
    "#将自行爬取的文档进行分类\n",
    "test = pd.read_csv('page12000.csv')\n",
    "vectorizer = pickle.load(open(\"vectorizer.pickle\", \"rb\"))\n",
    "model = pickle.load(open(\"lgb_model.pickle\", \"rb\"))\n",
    "test.columns = ['title','url','content','children']\n",
    "sencents = test.content\n",
    "content = []\n",
    "for sen in tqdm(sencents):\n",
    "    xx = jieba.lcut(sen)  \n",
    "    content.append(\",\".join(xx))\n",
    "test_x = vectorizer.transform(content).toarray()\n",
    "pre = model.predict(test_x)\n",
    "test['label'] = pre\n",
    "test.to_csv('labeled_page.csv',index=False,encoding='utf_8_sig')"
   ]
  },
  {
   "cell_type": "code",
   "execution_count": null,
   "metadata": {},
   "outputs": [],
   "source": []
  },
  {
   "cell_type": "code",
   "execution_count": null,
   "metadata": {},
   "outputs": [],
   "source": []
  }
 ],
 "metadata": {
  "kernelspec": {
   "display_name": "Python 3",
   "language": "python",
   "name": "python3"
  },
  "language_info": {
   "codemirror_mode": {
    "name": "ipython",
    "version": 3
   },
   "file_extension": ".py",
   "mimetype": "text/x-python",
   "name": "python",
   "nbconvert_exporter": "python",
   "pygments_lexer": "ipython3",
   "version": "3.6.8"
  }
 },
 "nbformat": 4,
 "nbformat_minor": 4
}
